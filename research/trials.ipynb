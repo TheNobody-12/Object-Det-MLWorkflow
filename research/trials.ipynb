{
 "cells": [
  {
   "cell_type": "code",
   "execution_count": 1,
   "metadata": {},
   "outputs": [],
   "source": [
    "import gdown"
   ]
  },
  {
   "cell_type": "code",
   "execution_count": 9,
   "metadata": {},
   "outputs": [
    {
     "data": {
      "text/plain": [
       "'1OT8qzsV-aiMxdEEgIkjQRm1HUR6cI0Zu'"
      ]
     },
     "execution_count": 9,
     "metadata": {},
     "output_type": "execute_result"
    }
   ],
   "source": [
    "url = \"https://drive.google.com/file/d/1OT8qzsV-aiMxdEEgIkjQRm1HUR6cI0Zu/view?usp=sharing\"\n",
    "\n",
    "file_id = url.split('/')[-2]\n",
    "file_id"
   ]
  },
  {
   "cell_type": "code",
   "execution_count": 21,
   "metadata": {},
   "outputs": [
    {
     "name": "stderr",
     "output_type": "stream",
     "text": [
      "Downloading...\n",
      "From (original): https://drive.google.com/uc?id=1OT8qzsV-aiMxdEEgIkjQRm1HUR6cI0Zu\n",
      "From (redirected): https://drive.google.com/uc?id=1OT8qzsV-aiMxdEEgIkjQRm1HUR6cI0Zu&confirm=t&uuid=889ca547-5cd7-4e99-a869-ea12695291e4\n",
      "To: f:\\IMP_DOCUMENT\\Projects\\DEVOPs\\ObjectBB\\data\\data.zip\n",
      "100%|██████████| 916M/916M [02:43<00:00, 5.61MB/s] \n"
     ]
    },
    {
     "data": {
      "text/plain": [
       "'data/data.zip'"
      ]
     },
     "execution_count": 21,
     "metadata": {},
     "output_type": "execute_result"
    }
   ],
   "source": [
    "prefix = \"https://drive.google.com/uc?id=\"\n",
    "url = prefix + file_id\n",
    "url\n",
    "\n",
    "output = \"data/data.zip\"\n",
    "gdown.download(url, output, quiet=False)"
   ]
  },
  {
   "cell_type": "code",
   "execution_count": 22,
   "metadata": {},
   "outputs": [],
   "source": [
    "import zipfile\n",
    "with zipfile.ZipFile(output, 'r') as zip_ref:\n",
    "    zip_ref.extractall(\"data\")"
   ]
  },
  {
   "cell_type": "markdown",
   "metadata": {},
   "source": [
    "Converting COC to YOLO"
   ]
  },
  {
   "cell_type": "code",
   "execution_count": 23,
   "metadata": {},
   "outputs": [
    {
     "data": {
      "text/plain": [
       "'data/annotations/test.json'"
      ]
     },
     "execution_count": 23,
     "metadata": {},
     "output_type": "execute_result"
    }
   ],
   "source": [
    "# create annotation dir if not exists\n",
    "import os\n",
    "if not os.path.exists(\"data/annotations\"):\n",
    "    os.makedirs(\"data/annotations\")\n",
    "\n",
    "# move annotations to annotations dir\n",
    "import shutil\n",
    "shutil.move(\"data/COCO_DATA/train/train.json\", \"data/annotations/train.json\")   \n",
    "shutil.move(\"data/COCO_DATA/test/test.json\", \"data/annotations/test.json\")\n"
   ]
  },
  {
   "cell_type": "code",
   "execution_count": 26,
   "metadata": {},
   "outputs": [
    {
     "name": "stderr",
     "output_type": "stream",
     "text": [
      "Annotations F:\\IMP_DOCUMENT\\Projects\\DEVOPs\\ObjectBB\\data\\annotations\\test.json: 100%|██████████| 3143/3143 [00:02<00:00, 1158.01it/s]\n",
      "Annotations F:\\IMP_DOCUMENT\\Projects\\DEVOPs\\ObjectBB\\data\\annotations\\train.json: 100%|██████████| 12568/12568 [00:18<00:00, 669.51it/s] "
     ]
    },
    {
     "name": "stdout",
     "output_type": "stream",
     "text": [
      "COCO data converted successfully.\n",
      "Results saved to F:\\IMP_DOCUMENT\\Projects\\DEVOPs\\ObjectBB\\data\\yolo_data\n"
     ]
    },
    {
     "name": "stderr",
     "output_type": "stream",
     "text": [
      "\n"
     ]
    }
   ],
   "source": [
    "# convert coco to yolo format\n",
    "from ultralytics.data.converter import convert_coco\n",
    "convert_coco(labels_dir='data/annotations',save_dir='data/yolo_data')"
   ]
  },
  {
   "cell_type": "code",
   "execution_count": 28,
   "metadata": {},
   "outputs": [
    {
     "data": {
      "text/plain": [
       "'data/yolo_data/images/test'"
      ]
     },
     "execution_count": 28,
     "metadata": {},
     "output_type": "execute_result"
    }
   ],
   "source": [
    "# copy the images to yolo_data\n",
    "shutil.copytree(\"data/COCO_DATA/train\", \"data/yolo_data/images/train\")\n",
    "shutil.copytree(\"data/COCO_DATA/test\", \"data/yolo_data/images/test\")"
   ]
  },
  {
   "cell_type": "code",
   "execution_count": 30,
   "metadata": {},
   "outputs": [],
   "source": [
    "# create a data.yaml file\n",
    "# the data.yaml file contains the number of classes, training and testing images\n",
    "\n",
    "# class_id and class_name mapping\n",
    "# 1, motorbike\n",
    "# 2, DHelmet\n",
    "# 3, DNoHelmet\n",
    "# 4, P1Helmet\n",
    "# 5, P1NoHelmet\n",
    "# 6, P2Helmet\n",
    "# 7, P2NoHelmet\n",
    "# 8, P0Helmet\n",
    "# 9, P0NoHelmet\n",
    "\n",
    "import yaml\n",
    "\n",
    "# the data.yaml file is used by the train.py file\n",
    "data_yaml = dict(\n",
    "    train = '../yolo_data/images/train',\n",
    "    val = '../yolo_data/images/test',\n",
    "    nc = 9,\n",
    "    names = ['motorbike', 'DHelmet', 'DNoHelmet', 'P1Helmet', 'P1NoHelmet', 'P2Helmet', 'P2NoHelmet', 'P0Helmet', 'P0NoHelmet']\n",
    ")\n",
    "\n",
    "# write the data.yaml file\n",
    "with open('data/yolo_data/data.yaml', 'w') as outfile:\n",
    "    yaml.dump(data_yaml, outfile, default_flow_style=False)"
   ]
  },
  {
   "cell_type": "code",
   "execution_count": null,
   "metadata": {},
   "outputs": [],
   "source": []
  }
 ],
 "metadata": {
  "kernelspec": {
   "display_name": "waste",
   "language": "python",
   "name": "python3"
  },
  "language_info": {
   "codemirror_mode": {
    "name": "ipython",
    "version": 3
   },
   "file_extension": ".py",
   "mimetype": "text/x-python",
   "name": "python",
   "nbconvert_exporter": "python",
   "pygments_lexer": "ipython3",
   "version": "3.10.9"
  }
 },
 "nbformat": 4,
 "nbformat_minor": 2
}
